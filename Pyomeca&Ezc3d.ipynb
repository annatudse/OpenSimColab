{
  "nbformat": 4,
  "nbformat_minor": 0,
  "metadata": {
    "colab": {
      "name": "Pyomeca&Ezc3d.ipynb",
      "provenance": [],
      "collapsed_sections": []
    },
    "kernelspec": {
      "name": "python3",
      "display_name": "Python 3"
    },
    "language_info": {
      "name": "python"
    }
  },
  "cells": [
    {
      "cell_type": "markdown",
      "metadata": {
        "id": "ooBkvC7JGYU3"
      },
      "source": [
        "#Pyomeca and Ezc3d\n",
        "https://github.com/pyomeca/pyomeca"
      ]
    },
    {
      "cell_type": "code",
      "metadata": {
        "id": "kb4Li8U-Gg-c"
      },
      "source": [
        "#Install mini conda first\n",
        "!wget -c https://repo.anaconda.com/miniconda/Miniconda3-py37_4.8.3-Linux-x86_64.sh\n",
        "!chmod +x Miniconda3-py37_4.8.3-Linux-x86_64.sh\n",
        "!bash ./Miniconda3-py37_4.8.3-Linux-x86_64.sh -b -f -p /usr/local\n",
        "import sys\n",
        "sys.path.append('/usr/local/lib/python3.7/site-packages')"
      ],
      "execution_count": null,
      "outputs": []
    },
    {
      "cell_type": "code",
      "metadata": {
        "id": "8dh9F_-LFTFx"
      },
      "source": [
        "# Install pymeca + ezc3dy\n",
        "!conda install -c conda-forge pyomeca\n",
        "# !conda install -c conda-forge ezc3d\n",
        "# from ezc3d import c3d\n",
        "# !conda install pyosim -c pyomeca -c conda-forge\n"
      ],
      "execution_count": null,
      "outputs": []
    },
    {
      "cell_type": "code",
      "metadata": {
        "id": "3tlgMxbCHAR2"
      },
      "source": [
        "#clone the files from its github\n",
        "!git clone https://github.com/pyomeca/pyomeca.git"
      ],
      "execution_count": null,
      "outputs": []
    },
    {
      "cell_type": "code",
      "metadata": {
        "id": "5zM7naE-HHBz"
      },
      "source": [
        "from pyomeca import Analogs\n",
        "\n",
        "data_path = \"../tests/data/markers_analogs.c3d\" #from github and adjusted in colab is below\n",
        "data_path = \"/content/pyomeca/tests/data/markers_analogs.c3d\"\n",
        "muscles = [\n",
        "    \"Delt_ant\",\n",
        "    \"Delt_med\",\n",
        "    \"Delt_post\",\n",
        "    \"Supra\",\n",
        "    \"Infra\",\n",
        "    \"Subscap\",\n",
        "]\n",
        "\n",
        "emg = Analogs.from_c3d(data_path, suffix_delimiter=\".\", usecols=muscles)\n",
        "emg.plot(x=\"time\", col=\"channel\", col_wrap=3)"
      ],
      "execution_count": null,
      "outputs": []
    },
    {
      "cell_type": "code",
      "metadata": {
        "id": "QMksGHYyII_-"
      },
      "source": [
        "emg_processed = (\n",
        "    emg.meca.band_pass(order=2, cutoff=[10, 425])\n",
        "    .meca.center()\n",
        "    .meca.abs()\n",
        "    .meca.low_pass(order=4, cutoff=5, freq=emg.rate)\n",
        "    .meca.normalize()\n",
        ")\n",
        "\n",
        "emg_processed.plot(x=\"time\", col=\"channel\", col_wrap=3)"
      ],
      "execution_count": null,
      "outputs": []
    },
    {
      "cell_type": "code",
      "metadata": {
        "id": "QHgA3HvIILnT"
      },
      "source": [
        "import matplotlib.pyplot as plt\n",
        "\n",
        "fig, axes = plt.subplots(ncols=2, figsize=(10, 4))\n",
        "\n",
        "emg_processed.mean(\"channel\").plot(ax=axes[0])\n",
        "axes[0].set_title(\"Mean EMG activation\")\n",
        "\n",
        "emg_processed.plot.hist(ax=axes[1], bins=50)\n",
        "axes[1].set_title(\"EMG activation distribution\")"
      ],
      "execution_count": null,
      "outputs": []
    }
  ]
}