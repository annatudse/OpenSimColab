{
  "nbformat": 4,
  "nbformat_minor": 0,
  "metadata": {
    "colab": {
      "name": "Scripting in Python.ipynb",
      "provenance": [],
      "collapsed_sections": []
    },
    "kernelspec": {
      "name": "python3",
      "display_name": "Python 3"
    },
    "language_info": {
      "name": "python"
    }
  },
  "cells": [
    {
      "cell_type": "markdown",
      "metadata": {
        "id": "b-kOA374jZRH"
      },
      "source": [
        "# OpenSim Scripting in Python\n",
        "This is replicating quick tutorial for Scripting in Python using OpenColab.\n",
        "\n",
        "[This link](https://simtk-confluence.stanford.edu:8443/display/OpenSim/Scripting+in+Python) is being replicated to show how simple one can use OpenColab to learn and do reserach with minimal setup (in fact <1 min) and about 7min installation OpenSim on the web.\n",
        "\n",
        "\n",
        "For instance, see what OpenSim needs configratuon as mentioned by the deveklopmers:\n",
        "\n",
        "*\"Python scripting is available from OpenSim 3.2, onward. Starting with 4.0, OpenSim is distributed as 64-bit only, so you must use 64-bit Python. If you are using 4.0, you need Python 2.7.x. If you are using 4.1 or 4.2, you need Python 3.7.x.*\n",
        "\n",
        "*Python version 3.8 is not supported for OpenSim version 4.2 or earlier; please use Python version 3.7 or earlier. Python version 3.8 is supported for OpenSim version 4.3+. \"*\n",
        "\n",
        "![scripingPython.png](data:image/png;base64,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)\n"
      ]
    },
    {
      "cell_type": "code",
      "metadata": {
        "cellView": "form",
        "id": "rGL4THsmiIgG"
      },
      "source": [
        "#@title Step 1: Install OpenSim package from link above & other dependency packages\n",
        "import time\n",
        "start_time = time.time()\n",
        "!pip uninstall -y -q plotly; pip install -q plotly\n",
        "!pip uninstall -y -q pandas; pip install -q pandas\n",
        "import pandas as pd \n",
        "import plotly\n",
        "pd.set_option('plotting.backend','plotly')\n",
        "def enable_plotly_in_cell():\n",
        "    import IPython\n",
        "    from plotly.offline import init_notebook_mode\n",
        "    display(IPython.core.display.HTML('''<script src=\"/static/components/requirejs/require.js\"></script>'''))\n",
        "    init_notebook_mode(connected=False)\n",
        "get_ipython().events.register('pre_run_cell', enable_plotly_in_cell)\n",
        "!wget -c https://repo.anaconda.com/miniconda/Miniconda3-py37_4.8.3-Linux-x86_64.sh\n",
        "!chmod +x Miniconda3-py37_4.8.3-Linux-x86_64.sh\n",
        "!bash ./Miniconda3-py37_4.8.3-Linux-x86_64.sh -b -f -p /usr/local\n",
        "import sys\n",
        "sys.path.append('/usr/local/lib/python3.7/site-packages')\n",
        "!conda install -y --prefix /usr/local -c ember123 opencolab\n",
        "!apt-get update -y\n",
        "!apt-get install -y x11-apps\n",
        "!apt install mesa-utils \n",
        "!apt-get install xvfb x11-utils\n",
        "!pip install pyvirtualdisplay\n",
        "from pyvirtualdisplay import Display\n",
        "Display(visible=0, size=(1400, 900)).start()\n",
        "!pip install c3d\n",
        "!pip install numpy --upgrade\n",
        "!pip install -q --upgrade ipython\n",
        "!pip install -q --upgrade ipykernel\n",
        "!pip install tensorflow==2.0.0.alpha0\n",
        "!conda install -c plotly -y plotly-orca\n",
        "!pip install svgutils\n",
        "!apt install libadolc2\n",
        "!apt-get install coinor-libipopt-dev \n",
        "import opensim as osim\n",
        "print('OpenSim Version Installed is version:',osim.__version__)\n",
        "print(f'The execution time of OpenSim Package Installation is {(time.time() - start_time)} sec')"
      ],
      "execution_count": null,
      "outputs": []
    },
    {
      "cell_type": "markdown",
      "metadata": {
        "id": "cVm3PXizkWbF"
      },
      "source": [
        "#Introduction to Python\n",
        "Python is a widely used general purpose programming language. Python is free and open source, with a large user community that encourages sharing and user contributions. The Python language is very flexible, supporting object-oriented and procedural styles of computing. The Python design philosophy also emphasizes code readability which makes sharing and using code easier than with some other languages. \n",
        "\n",
        "Those from scientific and engineering backgrounds who are new to Python should check out the following resources to help get started with the language:\n",
        "\n",
        "Python wikipedia\n",
        "python.org\n",
        "Python vs Matlab\n",
        "Google Python classes\n",
        "Python style guide (PEP8)\n",
        "Structuring a Python project"
      ]
    },
    {
      "cell_type": "markdown",
      "metadata": {
        "id": "ACYWmmixka6j"
      },
      "source": [
        "#Note on Python 2 vs Python 3\n",
        "The Python package that comes with the OpenSim GUI distribution up to version 4.0 will only work with Python 2.7.x. OpenSim version 4.1 distribution upgrades to support Python version 3.7. If you want a different python version, you must build the OpenSim API (opensim-core) from scratch and set the CMake variable OPENSIM_PYTHON_VERSION to the desired version (2 or 3). In all text below that refers to Python version 2.7 (for versions 4.0 and earlier) the same applies to Python version 3 for version 4.1 and later."
      ]
    },
    {
      "cell_type": "markdown",
      "metadata": {
        "id": "M9oKr_d2k7tD"
      },
      "source": [
        "# Available Example Scripts\n",
        "Scripts can are located in the OpenSim distribution in the sdk/Scripts/Python folder. \n",
        "\n",
        "\n",
        "build_simple_arm_model.py\tThis script generates a simple arm model, runs a simulation, and visualizes the results.\n",
        "wiring_inputs_and_outputs_with_TableReporter.py\tThis script shows how to write model outputs (the position of a body) to a data file."
      ]
    },
    {
      "cell_type": "markdown",
      "metadata": {
        "id": "gt1fbYIulC37"
      },
      "source": [
        "#Pythonic extensions of the OpenSim API\n",
        "We have add some pythonic aspects to our Python interface. All examples assume that you have already imported the opensim package (\"import opensim\")."
      ]
    },
    {
      "cell_type": "code",
      "metadata": {
        "id": "rJNqVxjFlFlL"
      },
      "source": [
        "# Initializing a Vector from a Python list\n",
        "v = osim.Vector([6, 7, 8, 9]) \n",
        "rv = osim.RowVector([1, 2, 5])\n"
      ],
      "execution_count": null,
      "outputs": []
    },
    {
      "cell_type": "code",
      "metadata": {
        "id": "J89xe79-lSYd"
      },
      "source": [
        "# Accessing elements of VecX and Vector using brackets\n",
        "v = osim.Vec3(1, 2, 3)\n",
        "v[0] = 1.5 + v[1]\n",
        "w = osim.Vector(5, 1.5)\n",
        "w[0] = 3 * w[1]"
      ],
      "execution_count": null,
      "outputs": []
    },
    {
      "cell_type": "code",
      "metadata": {
        "id": "JFXJg43AlX07"
      },
      "source": [
        "# Printing the contents of a VecX or Vector\n",
        "v = osim.Vec3(1, 2, 3)\n",
        "print(v)\n",
        "# outcome ~[1,2,3]"
      ],
      "execution_count": null,
      "outputs": []
    },
    {
      "cell_type": "code",
      "metadata": {
        "id": "4FaEUv50leyS"
      },
      "source": [
        "# Getting the length of a VecX or Vector\n",
        "# You can use the built-in python function len() on VecX (e.g., Vec3) and Vector:\n",
        "w = osim.Vector(5)\n",
        "if len(w) < 5:\n",
        "    raise Exception()"
      ],
      "execution_count": null,
      "outputs": []
    },
    {
      "cell_type": "code",
      "metadata": {
        "id": "nqDtmuDYlpxL"
      },
      "source": [
        "# Iterate over elements of any Set\n",
        "# There are two iterators: one that treats the Set like a python list, and another that treats the Set like a python dict:\n",
        "# !git clone git@github.com:hmok/OpenColab.git #make this avaiabe later as this is private now\n",
        "# model = osim.Model(\"my_model.osim\")\n",
        "model = osim.Model(\"/content/gait2354_simbody.osim\")\n",
        "for force in model.getForceSet():\n",
        "    print(force.getName())\n",
        "# for name, muscle in model.getMuscles():\n",
        "#     print(name, muscle.get_max_isometric_force())"
      ],
      "execution_count": null,
      "outputs": []
    },
    {
      "cell_type": "code",
      "metadata": {
        "id": "N9ogad5hoCHe"
      },
      "source": [
        "# Iterate over all bodies in a model (even bodies not in the model's BodySet)\n",
        "\n",
        "model = osim.Model(\"my_model.osim\") #change this name to match and make sure the fie exist here.\n",
        "for body in model.getBodyList():\n",
        "    print(body.getName())"
      ],
      "execution_count": null,
      "outputs": []
    }
  ]
}