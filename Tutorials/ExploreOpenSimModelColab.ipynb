{
  "nbformat": 4,
  "nbformat_minor": 0,
  "metadata": {
    "colab": {
      "name": "ExploreOpenSimModelColab.ipynb",
      "provenance": [],
      "toc_visible": true,
      "collapsed_sections": []
    },
    "kernelspec": {
      "name": "python3",
      "display_name": "Python 3"
    },
    "language_info": {
      "name": "python"
    }
  },
  "cells": [
    {
      "cell_type": "markdown",
      "source": [
        "# Introduction: Explore OpenSim model in Explorer!\n",
        "In a previous [article on medium](https://medium.com/@mokhtarzadeh.hossein/plot-data-from-c3d-files-on-google-colab-5714d6715973), we learned our neuro-biomechanics expert and traveler got some human movement data from a colleague. Pardis is our traveller! \n",
        "\n",
        "Pardis managed to get some insights into the movement data and the forces that the subject was feeling i.e., Ground Reaction forces (GRF).\n",
        "\n",
        "Now that she has the MoCap data including marker data and GRFs. She wants to learn more about what happens to the body like the joints, muscles, and skeleton bones. So she remembers that a biomechanical model is needed, and there is one free out there. Again she does not want to install it on her computer. So again, she remembers someone told her about OpenColab. Good idea! Let's give it a try!\n",
        "\n",
        "She opens her Google Colab and follows the steps below to see what is inside a generic model from a biomechanical package like [OpenSim](https://opensim.stanford.edu/) developed at Stanford University.\n",
        "\n",
        "\n",
        "1. Step 1: Install OpenSim and condalab\n",
        "\n",
        "2. Step 2: Import OpenSim and get a generic model\n",
        "\n",
        "3. Step 3: List OpenSim model's details e.g. joints, bodies, etc.\n",
        "\n",
        "\n",
        "Here is also [another article on medium](https://medium.com/@mokhtarzadeh.hossein/explore-the-opensim-model-in-explorer-8740d27402cd)\n",
        "\n",
        "\n",
        "**Contact:**\n",
        "\n",
        "Dr. Hossein Mokhtarzadeh\n",
        "\n",
        "[GitHub](https://github.com/hmok/OpenColab), \n",
        "[LinkedIn](https://www.linkedin.com/in/hossein-mokhtarzadeh/), \n",
        "[Twitter](https://twitter.com/HosseinMok), [Youtube](https://www.youtube.com/playlist?list=PLiahnQkIIdCH3nYsUsYl43eUejM1MXTyT),\n",
        "[SimTk](https://simtk.org/projects/opencolab) and \n",
        "\n",
        "& Gmail: mokhtarzadeh dot hossein at gmail dot com\n",
        "\n",
        "**Acknowledgement:** Packages installed and their contributors\n",
        "\n",
        "**Citations** (After using OpenColab, please cite the followings):\n",
        "\n",
        "1. Mokhtarzadeh, Hossein, Fangwei Jiang, Shengzhe Zhao, and Fatemeh Malekipour. 2021. “Opencolab Project: Opensim in Google Colaboratory to Explore Biomechanics on the Web.” engrXiv. September 30. doi:10.31224/osf.io/f8a3h.\n",
        "2. Mokhtarzadeh, Hossein; Fangwei Jiang; Habib, Ayman; Fatemeh Malekipour. \"Biomedical Engineering Education and Outreach - Innovations in Biomechanics Education\". 9th World Congress of Biomechanics (WCB2022), 10 Jul 2022 - 14 Jul 2022, Taipei.\n",
        "3. [SimTk](https://simtk.org/projects/opencolab) or [GitHub](https://github.com/hmok/OpenColab)"
      ],
      "metadata": {
        "id": "qpAB3zB5c8Lj"
      }
    },
    {
      "cell_type": "code",
      "source": [
        "#@title How to use this notebook? A short video tutorial.\n",
        "from IPython.display import YouTubeVideo\n",
        "YouTubeVideo('C3hKZml-jWU',1000,700) #version 4.3\n",
        "\n",
        "# https://youtu.be/C3hKZml-jWU"
      ],
      "metadata": {
        "id": "xS2hbscf-lk6"
      },
      "execution_count": null,
      "outputs": []
    },
    {
      "cell_type": "markdown",
      "source": [
        "# OpenSim model details:\n",
        "**List OpenSim model's detail such as muscles, joints, markers, etc**"
      ],
      "metadata": {
        "id": "R9lMAImyefQK"
      }
    },
    {
      "cell_type": "markdown",
      "source": [
        "\n",
        "\n",
        "\n",
        "<p><img src=\"https://raw.githubusercontent.com/hmok/OpenColab/main/Tutorials/Images/osim.png\" alt=\"OpenColab\" height=\"750px\" width=\"550px\" src=\"/img/colab_favicon.ico\" align=\"center\" hspace=\"10px\" vspace=\"0px\"></p>\n",
        "\n"
      ],
      "metadata": {
        "id": "uEd4lC31erji"
      }
    },
    {
      "cell_type": "code",
      "source": [
        "#@title Step 1: Install OpenSim and condalab\n",
        "# this block and the next one must be run manually first!\n",
        "#!conda --version\n",
        "#If !conda --version returns no results, install conda with uncommenting the next three lines:\n",
        "!pip install -q condacolab\n",
        "import condacolab\n",
        "condacolab.install()\n",
        "!conda install -c opensim-org opensim\n"
      ],
      "metadata": {
        "cellView": "form",
        "id": "2BUJct9LSTn2"
      },
      "execution_count": null,
      "outputs": []
    },
    {
      "cell_type": "markdown",
      "source": [
        "# Import OpenSim and get an OpenSim model from GitHub"
      ],
      "metadata": {
        "id": "VeaOG6wAjLma"
      }
    },
    {
      "cell_type": "code",
      "source": [
        "#@title  Step 2: Import OpenSim and get a model\n",
        "import opensim as osim\n",
        "print('OpenSim Version Installed is version:',osim.__version__)\n",
        "!wget https://raw.githubusercontent.com/hmok/OpenColab/main/gait2354_simbody.osim\n",
        "model = '/content/gait2354_simbody.osim'"
      ],
      "metadata": {
        "id": "pPc4OlpSSZB9",
        "cellView": "form"
      },
      "execution_count": null,
      "outputs": []
    },
    {
      "cell_type": "code",
      "execution_count": null,
      "metadata": {
        "cellView": "form",
        "id": "9BIJXgRpSIzX"
      },
      "outputs": [],
      "source": [
        "#@title Step 3: OpenSim model details e.g. joints, bodies, muscles\n",
        "from opensim import Model\n",
        "a = Model(model)\n",
        "print(\"bodyset:\")\n",
        "for d in a.getBodySet():\n",
        "    print(\"  \" + d.getName())\n",
        "print()\n",
        "print(\"Jointset:\")\n",
        "for d in a.getJointSet():\n",
        "    print(\"  \" + d.getName())\n",
        "print()\n",
        "print(\"Forceset:\")\n",
        "for d in a.get_ForceSet():\n",
        "    print(\"  \" + d.getName())\n",
        "print()\n",
        "print(\"Markerset:\")\n",
        "for d in a.getMarkerSet():\n",
        "    print(\"  \" + d.getName())\n",
        "print()\n",
        "print(\"Probeset:\")\n",
        "for d in a.get_ProbeSet():\n",
        "    print(\"  \" + d.getName())\n",
        "print()\n",
        "print(\"FrameList:\")\n",
        "for d in a.getFrameList():\n",
        "    print(d.getName())\n",
        "print()\n",
        " \n",
        "w = Model(model)\n",
        "state = w.initSystem()\n",
        "count = 0\n",
        "for d in w.getMuscleList():\n",
        "    count = count + 1\n",
        "print(f'muscles: {count} \\nbodies: {w.getNumBodies()} \\ndegree: {w.getNumCoordinates()}')"
      ]
    },
    {
      "cell_type": "markdown",
      "source": [
        "# Next steps and quizes\n",
        "\n",
        "1. How can you get other paramerts of the model like the way GUI shows\n",
        "2. Can you create or recreate what GUI does such as inside the model, visulization, etc in here i.e. Colab??\n",
        "3. Any comments or suggestions or cool applications based on these, please let me know!\n",
        "\n",
        "Dr. Hossein Mokhtarzadeh\n",
        "\n",
        "[GitHub](https://github.com/hmok/OpenColab), \n",
        "[LinkedIn](https://www.linkedin.com/in/hossein-mokhtarzadeh/), \n",
        "[Twitter](https://twitter.com/HosseinMok), [Youtube](https://www.youtube.com/playlist?list=PLiahnQkIIdCH3nYsUsYl43eUejM1MXTyT),\n",
        "[SimTk](https://simtk.org/projects/opencolab) and \n",
        "\n",
        "& Gmail: mokhtarzadeh dot hossein at gmail dot com\n",
        "\n",
        "**Acknowledgement:** Packag installed and their contributors\n",
        "\n",
        "**Citations** (After using OpenColab, please cite the followings):\n",
        "\n",
        "1. Mokhtarzadeh, Hossein, Fangwei Jiang, Shengzhe Zhao, and Fatemeh Malekipour. 2021. “Opencolab Project: Opensim in Google Colaboratory to Explore Biomechanics on the Web.” engrXiv. September 30. doi:10.31224/osf.io/f8a3h.\n",
        "2. Mokhtarzadeh, Hossein; Fangwei Jiang; Habib, Ayman; Fatemeh Malekipour. \"Biomedical Engineering Education and Outreach - Innovations in Biomechanics Education\". 9th World Congress of Biomechanics (WCB2022), 10 Jul 2022 - 14 Jul 2022, Taipei.\n",
        "3. [SimTk](https://simtk.org/projects/opencolab) or [GitHub](https://github.com/hmok/OpenColab)"
      ],
      "metadata": {
        "id": "LKAGMK4Sc6iG"
      }
    }
  ]
}