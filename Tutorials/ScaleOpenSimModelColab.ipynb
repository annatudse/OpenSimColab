{
  "nbformat": 4,
  "nbformat_minor": 0,
  "metadata": {
    "colab": {
      "name": "ScaleOpenSimModelColab",
      "provenance": [],
      "collapsed_sections": [],
      "toc_visible": true
    },
    "kernelspec": {
      "name": "python3",
      "display_name": "Python 3"
    },
    "language_info": {
      "name": "python"
    }
  },
  "cells": [
    {
      "cell_type": "markdown",
      "source": [
        "# **Introduction:** Scale a Generic OpenSim model in Explorer!\n",
        "\n",
        "Pardis, our explorer, received her motion data from her colleague via email. Then she realized that [OpenColab](https://simtk.org/projects/opencolab) allows her to explore inside a generic model on the web [(See this article)](https://medium.com/@mokhtarzadeh.hossein/explore-the-opensim-model-in-explorer-8740d27402cd)\n",
        "\n",
        "She also got some insights into the data regarding marker positions and GRFs. She was excited and wondered what other possibilities would be.\n",
        "\n",
        "She choose a generic model in [OpenSim](https://opensim.stanford.edu/) and realized that the model does not match her subject's anthropometric data. That means the generic model's height, weight, etc do not match with her subjects. She wondered if she needs to develop her model from scratch. \n",
        "\n",
        "Asking Dr. [Google](http://google.com/), she realized that people do something called [scaling a generic model](https://simtk-confluence.stanford.edu:8443/display/OpenSim/How+to+Use+the+Scale+Tool). She then started learning about it. She noticed yes, it is possible in OpenSim and OpenColab can help her implement it on the web. Let's see what she did next:\n",
        "\n",
        "\n",
        "1. **Step 1:** Install OpenSim and condalab\n",
        "\n",
        "2. **Step 2:** Import OpenSim and get a generic model\n",
        "\n",
        "3. **Step 3:** How to scale a generic model in OpenColab?\n",
        "\n",
        "4. **Step 4:** Include the log file if it does not exist\n",
        "\n",
        "5. **Step 5:** Scaling Validation\n",
        "\n",
        "\n",
        "\n",
        "\n",
        "---\n",
        "\n",
        "\n",
        "#**List of previous articles and Pardis' story:**\n",
        "1.  [An article on the scaling OpenSim Model](https://medium.com/@mokhtarzadeh.hossein/scale-a-generic-opensim-model-in-explorer-376a51f5fecf)\n",
        "\n",
        "2. [An article on Exploring OpenSim Model](https://medium.com/@mokhtarzadeh.hossein/explore-the-opensim-model-in-explorer-8740d27402cd)\n",
        "\n",
        "3. [An article on plotting c3d files on the web](https://medium.com/@mokhtarzadeh.hossein/plot-data-from-c3d-files-on-google-colab-5714d6715973)\n",
        "\n",
        "\n",
        "---\n",
        "\n",
        "\n",
        "**Contact:**\n",
        "\n",
        "Dr. Hossein Mokhtarzadeh\n",
        "\n",
        "[GitHub](https://github.com/hmok/OpenColab), \n",
        "[LinkedIn](https://www.linkedin.com/in/hossein-mokhtarzadeh/), \n",
        "[Twitter](https://twitter.com/HosseinMok), [Youtube](https://www.youtube.com/playlist?list=PLiahnQkIIdCH3nYsUsYl43eUejM1MXTyT),\n",
        "[SimTk](https://simtk.org/projects/opencolab) and \n",
        "\n",
        "& Gmail: mokhtarzadeh dot hossein at gmail dot com\n",
        "\n",
        "**Acknowledgement:** Packages installed and their contributors\n",
        "\n",
        "**Citations** (After using OpenColab, please cite the followings):\n",
        "\n",
        "1. Mokhtarzadeh, Hossein, Fangwei Jiang, Shengzhe Zhao, and Fatemeh Malekipour. 2021. “Opencolab Project: Opensim in Google Colaboratory to Explore Biomechanics on the Web.” engrXiv. September 30. doi:10.31224/osf.io/f8a3h.\n",
        "2. Mokhtarzadeh, Hossein; Fangwei Jiang; Habib, Ayman; Fatemeh Malekipour. \"Biomedical Engineering Education and Outreach - Innovations in Biomechanics Education\". 9th World Congress of Biomechanics (WCB2022), 10 Jul 2022 - 14 Jul 2022, Taipei.\n",
        "3. [SimTk](https://simtk.org/projects/opencolab) or [GitHub](https://github.com/hmok/OpenColab)"
      ],
      "metadata": {
        "id": "Rpqc9MgRliRB"
      }
    },
    {
      "cell_type": "code",
      "source": [
        "#@title How to use this notebook? A short video tutorial.\n",
        "from IPython.display import YouTubeVideo\n",
        "YouTubeVideo('meA4XQICj2s',1000,700) #version 4.3\n",
        "\n",
        "# https://youtu.be/meA4XQICj2s"
      ],
      "metadata": {
        "cellView": "form",
        "id": "OYHEon3YS-j4"
      },
      "execution_count": null,
      "outputs": []
    },
    {
      "cell_type": "code",
      "source": [
        "#@title Step 1: Install OpenSim and condalab\n",
        "#!conda --version\n",
        "#If !conda --version returns no results, install conda with uncommenting the next three lines:\n",
        "!pip install -q condacolab\n",
        "import condacolab\n",
        "condacolab.install()\n",
        "!conda install -c opensim-org opensim\n"
      ],
      "metadata": {
        "cellView": "form",
        "id": "9oSYNtm1khGo"
      },
      "execution_count": null,
      "outputs": []
    },
    {
      "cell_type": "code",
      "source": [
        "#@title Step 2: Let's import dataset, models, xml files from GitHub URLs\n",
        "# OpenSim models etc from github\n",
        "import opensim as osim\n",
        "!git clone https://github.com/opensim-org/opensim-models.git # models needed\n",
        "!cp /content/opensim-models/Models/Gait2354_Simbody/* /content/opensim-models/Pipelines/Gait2354_Simbody\n"
      ],
      "metadata": {
        "cellView": "form",
        "id": "d7IbwgBTkfHp"
      },
      "execution_count": null,
      "outputs": []
    },
    {
      "cell_type": "code",
      "execution_count": null,
      "metadata": {
        "cellView": "form",
        "id": "PMbQbp_NkLF6"
      },
      "outputs": [],
      "source": [
        "#@title Step 3: How to scale a generic model in OpenColab?\n",
        "from opensim import ScaleTool\n",
        "import time\n",
        "start_time = time.time()\n",
        "ScaleTool(\"/content/opensim-models/Pipelines/Gait2354_Simbody/subject01_Setup_Scale.xml\").run()\n",
        "print(f'The execution time of ScaleTool is {(time.time() - start_time)} sec')"
      ]
    },
    {
      "cell_type": "code",
      "source": [
        "#@title Step 4: Include log file if it does not exist\n",
        "#@markdown \n",
        "# Logger.addFileSink('logs_folder/full_path.log');\n",
        "\n",
        "osim.Logger.removeFileSink()\n",
        "logPath = \"/content/\"\n",
        "if not os.path.exists(logPath):\n",
        "  os.makedirs(logPath)\n",
        "osim.Logger.addFileSink(\"/content/opensim.log\")"
      ],
      "metadata": {
        "cellView": "form",
        "id": "U0QJfdrjOHFn"
      },
      "execution_count": null,
      "outputs": []
    },
    {
      "cell_type": "markdown",
      "source": [
        "#Scaling A Generic Musculoskeletal Model\n",
        "To develop a subject-specific modeling, we scale a generic model in OpenSim. Please see more details [here](https://simtk-confluence.stanford.edu/display/OpenSim/Tutorial+3+-+Scaling%2C+Inverse+Kinematics%2C+and+Inverse+Dynamics).\n",
        "\n",
        "Files needed for Scaling from official website:\n",
        "\n",
        "<p><img src=\"https://simtk-confluence.stanford.edu/download/attachments/29165747/Scale.png\" alt=\"Files needed for Scaling\" height=\"150px\" src=\"/img/colab_favicon.ico\" align=\"center\" hspace=\"10px\" vspace=\"0px\"></p>\n",
        "\n",
        "<hr>\n",
        "\n",
        "#Scaling shown in GUI from Opensim GUI\n",
        "After perforing the scaling in GUI, please note that marker errors will be reported in the messages. We will also report them here in OpenColab in validation part of scaling.\n",
        "<p><img src=\"https://raw.githubusercontent.com/ESJiang/scale_validate/master/scale_validate.png\" alt=\"Scaling\" height=\"500px\" src=\"/img/colab_favicon.ico\" align=\"center\" hspace=\"10px\" vspace=\"0px\"></p>\n"
      ],
      "metadata": {
        "id": "EQG_K8SUOYIZ"
      }
    },
    {
      "cell_type": "code",
      "source": [
        "#@title Step 5. Scaling Validation\n",
        "\n",
        "#You can compare these values below and the ones from GUI above.\n",
        "import os\n",
        "if os.path.exists('/content/opensim-models/Pipelines/Gait2354_Simbody/opensim.log'):\n",
        "    with open('/content/opensim-models/Pipelines/Gait2354_Simbody/opensim.log','r') as f:\n",
        "        print([line for line in f if 'Frame at (t = 1.0):\t total squared error = ' in line])\n",
        "else:\n",
        "    with open('/content/opensim.log','r') as f:\n",
        "        print([line for line in f if 'Frame at (t = 1.0):\t total squared error = ' in line])"
      ],
      "metadata": {
        "cellView": "form",
        "id": "GU6-Ks9sNvpZ"
      },
      "execution_count": null,
      "outputs": []
    },
    {
      "cell_type": "markdown",
      "source": [
        "# Next steps and quizes\n",
        "\n",
        "1. Do we still need to improve scaling e.g. using images like MRI, CT etc though we have quite perfect match?\n",
        "2. If so, how can one bring imaging data into Colab and recreate a 3D model (it is indeed not a simple task for now!)?\n",
        "3. How can you do this if you have a large number of subjects with different body shapes, and weights? How can you do scaling then?\n",
        "4. Any comments or suggestions or cool applications based on these, please let me know!\n",
        "\n",
        "\n",
        "\n",
        "---\n",
        "\n",
        "\n",
        "\n",
        "Dr. Hossein Mokhtarzadeh\n",
        "\n",
        "[GitHub](https://github.com/hmok/OpenColab), \n",
        "[LinkedIn](https://www.linkedin.com/in/hossein-mokhtarzadeh/), \n",
        "[Twitter](https://twitter.com/HosseinMok), [Youtube](https://www.youtube.com/playlist?list=PLiahnQkIIdCH3nYsUsYl43eUejM1MXTyT),\n",
        "[SimTk](https://simtk.org/projects/opencolab) and \n",
        "\n",
        "& Gmail: mokhtarzadeh dot hossein at gmail dot com\n",
        "\n",
        "**Acknowledgement:** Package installed (esp thanks to Arthur) and their contributors\n",
        "\n",
        "**Citations** (After using OpenColab, please cite the followings):\n",
        "\n",
        "1. Mokhtarzadeh, Hossein, Fangwei Jiang, Shengzhe Zhao, and Fatemeh Malekipour. 2021. “Opencolab Project: Opensim in Google Colaboratory to Explore Biomechanics on the Web.” engrXiv. September 30. doi:10.31224/osf.io/f8a3h.\n",
        "2. Mokhtarzadeh, Hossein; Fangwei Jiang; Habib, Ayman; Fatemeh Malekipour. \"Biomedical Engineering Education and Outreach - Innovations in Biomechanics Education\". 9th World Congress of Biomechanics (WCB2022), 10 Jul 2022 - 14 Jul 2022, Taipei.\n",
        "3. [SimTk](https://simtk.org/projects/opencolab) or [GitHub](https://github.com/hmok/OpenColab)"
      ],
      "metadata": {
        "id": "FMfRiH68mf33"
      }
    }
  ]
}