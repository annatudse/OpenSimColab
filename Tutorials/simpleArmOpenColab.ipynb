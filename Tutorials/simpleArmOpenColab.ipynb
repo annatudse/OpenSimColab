{
  "nbformat": 4,
  "nbformat_minor": 0,
  "metadata": {
    "colab": {
      "name": "simpleArmOpenColab.ipynb",
      "provenance": [],
      "collapsed_sections": [],
      "toc_visible": true
    },
    "kernelspec": {
      "name": "python3",
      "display_name": "Python 3"
    },
    "language_info": {
      "name": "python"
    },
    "accelerator": "GPU"
  },
  "cells": [
    {
      "cell_type": "markdown",
      "source": [
        "# **Introduction:** Simple Arm Model Development in [OpenColab](https://simtk.org/projects/opencolab) ([OpenSim](https://opensim.stanford.edu/) in Explorer)!\n",
        "\n",
        "Pardis, our explorer, learned how to perform [scaling a generic model](https://simtk-confluence.stanford.edu:8443/display/OpenSim/How+to+Use+the+Scale+Tool) in OpenSim using Colab. It was great since she saw the changes in the model from the size of the model. She then thought: well I can do this, but how the model was developed?\n",
        "\n",
        "\n",
        "\n",
        "I need to learn the details of it like \n",
        "\n",
        "- What is a muscle (or actuator)?\n",
        "- What is joint? What type of joints do we have?\n",
        "- What are constraints, markersets, Controllers and even Probes?\n",
        "- How can I learn them? I need a simple model to easily explore its details.\n",
        "\n",
        "\n",
        "\n",
        "Luckily, she found a [simple example development process](https://github.com/opensim-org/opensim-core#simple-example) in the Python section on the OpenSim website where a simple arm model was built from scratch. \n",
        "\n",
        "The aim is to simulate the following, however, OpenColab visualization still is working in progress so we do the scripting here only for now (the animation comes from [OpenSim GituHub](https://github.com/opensim-org/opensim-core#simple-example)):\n",
        "\n",
        "<img src=\"https://github.com/opensim-org/opensim-core/raw/master/doc/images/opensim_double_pendulum_muscle.gif\" alt=\"This code produces the following animation:\">\n",
        "\n",
        "\n",
        "Yes, that is what Pardis was looking for. Let's see what she learned and what steps she took to develop a simple model in OpenSim using Colab and the tutorial developed by the [OpenSim team](https://github.com/opensim-org/opensim-core#simple-example):\n",
        "\n",
        "\n",
        "\n",
        "1. **Step 1:** Install OpenSim and condalab\n",
        "\n",
        "2. **Step 2:** Create different parts of the model (segments or bones), their mechanical parameters e.g. mass, moments of inertia, etc\n",
        "\n",
        "3. **Step 3:** Create different parts of the model like links\n",
        "\n",
        "4. **Step 4:** Build the model\n",
        "\n",
        "5. **Step 5:** Add a console reporter\n",
        "\n",
        "6. **Step 6:**  Add display geometry (working in progress in OpenColab), \n",
        "\n",
        "7. **Step 7:** Model Config\n",
        "\n",
        "8. **Step 8:** Simulate\n",
        "\n",
        "9. **Step 9:** Save the model in OpenSim format\n",
        "\n",
        "9. **Step 9:** Next steps\n",
        "\n",
        "So there are so many steps, let's take our time to learn them! \n",
        "\n",
        "\n",
        "---\n",
        "\n",
        "\n",
        "#**List of previous articles and Pardis' story:**\n",
        "1.  [An article on plotting c3d files on the web](https://medium.com/@mokhtarzadeh.hossein/plot-data-from-c3d-files-on-google-colab-5714d6715973)\n",
        "\n",
        "2. [An article on Exploring OpenSim Model](https://medium.com/@mokhtarzadeh.hossein/explore-the-opensim-model-in-explorer-8740d27402cd)\n",
        "\n",
        "3. [An article on the scaling OpenSim Model](https://medium.com/@mokhtarzadeh.hossein/scale-a-generic-opensim-model-in-explorer-376a51f5fecf)\n",
        "\n",
        "4. [An article on biomechanical model development in Colab](https://medium.com/@mokhtarzadeh.hossein/simple-arm-model-building-in-colab-using-opensim-api-bab0057d37ea)\n",
        "\n",
        "\n",
        "\n",
        "\n",
        "---\n",
        "\n",
        "\n",
        "**Contact:**\n",
        "\n",
        "Dr. Hossein Mokhtarzadeh\n",
        "\n",
        "[GitHub](https://github.com/hmok/OpenColab), \n",
        "[LinkedIn](https://www.linkedin.com/in/hossein-mokhtarzadeh/), \n",
        "[Twitter](https://twitter.com/HosseinMok), [Youtube](https://www.youtube.com/playlist?list=PLiahnQkIIdCH3nYsUsYl43eUejM1MXTyT),\n",
        "[SimTk](https://simtk.org/projects/opencolab) and \n",
        "\n",
        "& Gmail: mokhtarzadeh dot hossein at gmail dot com\n",
        "\n",
        "**Acknowledgement:** Packages installed and their contributors\n",
        "\n",
        "**Citations** (After using OpenColab, please cite the followings):\n",
        "\n",
        "1. Mokhtarzadeh, Hossein, Fangwei Jiang, Shengzhe Zhao, and Fatemeh Malekipour. 2021. “Opencolab Project: Opensim in Google Colaboratory to Explore Biomechanics on the Web.” engrXiv. September 30. doi:10.31224/osf.io/f8a3h.\n",
        "2. Mokhtarzadeh, Hossein; Fangwei Jiang; Habib, Ayman; Fatemeh Malekipour. \"Biomedical Engineering Education and Outreach - Innovations in Biomechanics Education\". 9th World Congress of Biomechanics (WCB2022), 10 Jul 2022 - 14 Jul 2022, Taipei.\n",
        "3. [SimTk](https://simtk.org/projects/opencolab) or [GitHub](https://github.com/hmok/OpenColab)"
      ],
      "metadata": {
        "id": "786rB6jPH0qm"
      }
    },
    {
      "cell_type": "code",
      "source": [
        "#@title How to use this notebook? A short video tutorial.\n",
        "from IPython.display import YouTubeVideo\n",
        "YouTubeVideo('PjXCzdZrHzE',1000,700) #version 4.3\n",
        "\n",
        "# https://youtu.be/PjXCzdZrHzE"
      ],
      "metadata": {
        "cellView": "form",
        "id": "g9d1WfhTQPlz"
      },
      "execution_count": null,
      "outputs": []
    },
    {
      "cell_type": "code",
      "execution_count": null,
      "metadata": {
        "id": "-HQ4X31BEXJt",
        "cellView": "form"
      },
      "outputs": [],
      "source": [
        "#@title Step 1: Install OpenSim and condalab\n",
        "# this block and the next one must be run manually first!\n",
        "#!conda --version\n",
        "#If !conda --version returns no results, install conda with uncommenting the next three lines:\n",
        "!pip install -q condacolab\n",
        "import condacolab\n",
        "condacolab.install()\n",
        "!conda install -c opensim-org opensim\n"
      ]
    },
    {
      "cell_type": "code",
      "source": [
        "#@title Add a log file (optional)\n",
        "## @markdown Logger.addFileSink('logs_folder/full_path.log');\n",
        "import opensim as osim\n",
        "import os\n",
        "osim.Logger.removeFileSink()\n",
        "logPath = \"/content/\"\n",
        "if not os.path.exists(logPath):\n",
        "  os.makedirs(logPath)\n",
        "osim.Logger.addFileSink(\"/content/opensim.log\")"
      ],
      "metadata": {
        "id": "l5XTf_K3E9JK",
        "cellView": "form"
      },
      "execution_count": null,
      "outputs": []
    },
    {
      "cell_type": "code",
      "source": [
        "import opensim as osim\n",
        "\n",
        "import sys\n",
        "# Are we running this script as a test? Users can ignore this line!\n",
        "# running_as_test = 'unittest' in str().join(sys.argv)\n",
        "\n",
        "#@title Step 2: Create different parts of the model\n",
        "\n",
        "# Define global model where the arm lives.\n",
        "arm = osim.Model()\n",
        "# if not running_as_test: arm.setUseVisualizer(True)\n",
        "\n",
        "# ---------------------------------------------------------------------------\n",
        "# Create two links, each with a mass of 1 kg, centre of mass at the body's\n",
        "# origin, and moments and products of inertia of zero.\n",
        "# ---------------------------------------------------------------------------\n",
        "\n",
        "humerus = osim.Body(\"humerus\",\n",
        "                    1.0,\n",
        "                    osim.Vec3(0, 0, 0),\n",
        "                    osim.Inertia(0, 0, 0))\n",
        "radius = osim.Body(\"radius\",\n",
        "                   1.0,\n",
        "                   osim.Vec3(0, 0, 0),\n",
        "                   osim.Inertia(0, 0, 0))\n",
        "\n"
      ],
      "metadata": {
        "id": "5waDf1gpEmmw",
        "cellView": "form"
      },
      "execution_count": null,
      "outputs": []
    },
    {
      "cell_type": "code",
      "source": [
        "#@title Step 3: Create different parts of the model like links\n",
        "# ---------------------------------------------------------------------------\n",
        "# Connect the bodies with pin joints. Assume each body is 1m long.\n",
        "# ---------------------------------------------------------------------------\n",
        "\n",
        "shoulder = osim.PinJoint(\"shoulder\",\n",
        "                         arm.getGround(), # PhysicalFrame\n",
        "                         osim.Vec3(0, 0, 0),\n",
        "                         osim.Vec3(0, 0, 0),\n",
        "                         humerus, # PhysicalFrame\n",
        "                         osim.Vec3(0, 1, 0),\n",
        "                         osim.Vec3(0, 0, 0))\n",
        "\n",
        "elbow = osim.PinJoint(\"elbow\",\n",
        "                      humerus, # PhysicalFrame\n",
        "                      osim.Vec3(0, 0, 0),\n",
        "                      osim.Vec3(0, 0, 0),\n",
        "                      radius, # PhysicalFrame\n",
        "                      osim.Vec3(0, 1, 0),\n",
        "                      osim.Vec3(0, 0, 0))\n",
        "\n",
        "# ---------------------------------------------------------------------------\n",
        "# Add a muscle that flexes the elbow (actuator for robotics people).\n",
        "# ---------------------------------------------------------------------------\n",
        "\n",
        "biceps = osim.Millard2012EquilibriumMuscle(\"biceps\",  # Muscle name\n",
        "                                           200.0,  # Max isometric force\n",
        "                                           0.6,  # Optimal fibre length\n",
        "                                           0.55,  # Tendon slack length\n",
        "                                           0.0)  # Pennation angle\n",
        "biceps.addNewPathPoint(\"origin\",\n",
        "                       humerus,\n",
        "                       osim.Vec3(0, 0.8, 0))\n",
        "\n",
        "biceps.addNewPathPoint(\"insertion\",\n",
        "                       radius,\n",
        "                       osim.Vec3(0, 0.7, 0))\n",
        "\n",
        "# ---------------------------------------------------------------------------\n",
        "# Add a controller that specifies the excitation of the muscle.\n",
        "# ---------------------------------------------------------------------------\n",
        "\n",
        "brain = osim.PrescribedController()\n",
        "brain.addActuator(biceps)\n",
        "brain.prescribeControlForActuator(\"biceps\",\n",
        "                                  osim.StepFunction(0.5, 3.0, 0.3, 1.0))\n",
        "\n"
      ],
      "metadata": {
        "cellView": "form",
        "id": "iMG-MvIVM8pK"
      },
      "execution_count": null,
      "outputs": []
    },
    {
      "cell_type": "code",
      "source": [
        "\n",
        "#@title Step 4: Build the model\n",
        "# ---------------------------------------------------------------------------\n",
        "# Build model with components created above.\n",
        "# ---------------------------------------------------------------------------\n",
        "\n",
        "arm.addBody(humerus)\n",
        "arm.addBody(radius)\n",
        "arm.addJoint(shoulder) # Now required in OpenSim4.0\n",
        "arm.addJoint(elbow)\n",
        "arm.addForce(biceps)\n",
        "arm.addController(brain)\n",
        "\n"
      ],
      "metadata": {
        "cellView": "form",
        "id": "xh7GGwaMM_q6"
      },
      "execution_count": null,
      "outputs": []
    },
    {
      "cell_type": "code",
      "source": [
        "\n",
        "#@title Step 5: Add a console reporter\n",
        "# ---------------------------------------------------------------------------\n",
        "# Add a console reporter to print the muscle fibre force and elbow angle.\n",
        "# ---------------------------------------------------------------------------\n",
        "\n",
        "# We want to write our simulation results to the console.\n",
        "reporter = osim.ConsoleReporter()\n",
        "reporter.set_report_time_interval(1.0)\n",
        "reporter.addToReport(biceps.getOutput(\"fiber_force\"))\n",
        "elbow_coord = elbow.getCoordinate().getOutput(\"value\")\n",
        "reporter.addToReport(elbow_coord, \"elbow_angle\")\n",
        "arm.addComponent(reporter)\n"
      ],
      "metadata": {
        "cellView": "form",
        "id": "6gysCb8PNBkK"
      },
      "execution_count": null,
      "outputs": []
    },
    {
      "cell_type": "code",
      "source": [
        "\n",
        "#@title Step 6: Add display geometry \n",
        "# ---------------------------------------------------------------------------\n",
        "# Add display geometry. \n",
        "# ---------------------------------------------------------------------------\n",
        "\n",
        "bodyGeometry = osim.Ellipsoid(0.1, 0.5, 0.1)\n",
        "bodyGeometry.setColor(osim.Gray)\n",
        "humerusCenter = osim.PhysicalOffsetFrame()\n",
        "humerusCenter.setName(\"humerusCenter\")\n",
        "humerusCenter.setParentFrame(humerus)\n",
        "humerusCenter.setOffsetTransform(osim.Transform(osim.Vec3(0, 0.5, 0)))\n",
        "humerus.addComponent(humerusCenter)\n",
        "humerusCenter.attachGeometry(bodyGeometry.clone())\n",
        "\n",
        "radiusCenter = osim.PhysicalOffsetFrame()\n",
        "radiusCenter.setName(\"radiusCenter\")\n",
        "radiusCenter.setParentFrame(radius)\n",
        "radiusCenter.setOffsetTransform(osim.Transform(osim.Vec3(0, 0.5, 0)))\n",
        "radius.addComponent(radiusCenter)\n",
        "radiusCenter.attachGeometry(bodyGeometry.clone())\n",
        "\n"
      ],
      "metadata": {
        "cellView": "form",
        "id": "aIQW49WLNDSS"
      },
      "execution_count": null,
      "outputs": []
    },
    {
      "cell_type": "code",
      "source": [
        "\n",
        "#@title Step 7: Model config\n",
        "# ---------------------------------------------------------------------------\n",
        "# Configure the model.\n",
        "# ---------------------------------------------------------------------------\n",
        "# arm.initSystem\n",
        "state = arm.initSystem()\n",
        "# Fix the shoulder at its default angle and begin with the elbow flexed.\n",
        "shoulder.getCoordinate().setLocked(state, True)\n",
        "elbow.getCoordinate().setValue(state, 0.5 * osim.SimTK_PI)\n",
        "arm.equilibrateMuscles(state)\n"
      ],
      "metadata": {
        "cellView": "form",
        "id": "wOD6DHGyNFF7"
      },
      "execution_count": null,
      "outputs": []
    },
    {
      "cell_type": "code",
      "source": [
        "\n",
        "#@title Step 8: Simulate\n",
        "# ---------------------------------------------------------------------------\n",
        "# Simulate.\n",
        "# ---------------------------------------------------------------------------\n",
        "\n",
        "manager = osim.Manager(arm)\n",
        "state.setTime(0)\n",
        "manager.initialize\n",
        "manager.initialize(state)\n",
        "state = manager.integrate(10.0)\n",
        "\n"
      ],
      "metadata": {
        "id": "DW2B7JFpNFy6",
        "cellView": "form"
      },
      "execution_count": null,
      "outputs": []
    },
    {
      "cell_type": "code",
      "source": [
        "#@title Step 9: Save the model\n",
        "# ---------------------------------------------------------------------------\n",
        "# Print/save model file\n",
        "# ---------------------------------------------------------------------------\n",
        "\n",
        "arm.printToXML(\"SimpleArm.osim\")"
      ],
      "metadata": {
        "id": "dPRyyETKNbyq",
        "cellView": "form"
      },
      "execution_count": null,
      "outputs": []
    },
    {
      "cell_type": "markdown",
      "source": [
        "#Step 10: Next steps\n",
        "\n",
        "Now you can open the SimpleArm.osim file by double clicking on it. The file is open on the right hand side and all the details you built can be explored.\n",
        "\n",
        "- You can dowload it and visulize it in OpenSim GUI\n",
        "- Can you visualize it or any part of the model here in the Colab?\n",
        "- What else would you like your model to have like any other muscles, joints, body parts, etc? \n",
        "- Is this easy to develop a model? Are there better ways to create a model from scratch?\n",
        "- How can you change part of the model like strenghening the muscles?"
      ],
      "metadata": {
        "id": "mUe8co8kOfiS"
      }
    },
    {
      "cell_type": "code",
      "source": [
        "#@title Wanna learn more, watch this video from OpenSim.\n",
        "from IPython.display import YouTubeVideo\n",
        "YouTubeVideo('wi4JR9pYy4U',1000,700) #version 4.3\n",
        "\n",
        "\n",
        "# https://youtu.be/wi4JR9pYy4U"
      ],
      "metadata": {
        "id": "38G9yq6WR5xJ",
        "cellView": "form"
      },
      "execution_count": null,
      "outputs": []
    }
  ]
}